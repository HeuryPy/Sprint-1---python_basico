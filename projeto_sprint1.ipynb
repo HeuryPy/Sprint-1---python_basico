{
 "cells": [
  {
   "cell_type": "code",
   "execution_count": null,
   "metadata": {},
   "outputs": [],
   "source": []
  },
  {
   "cell_type": "markdown",
   "metadata": {
    "id": "FnPB8Fx5TMRb"
   },
   "source": [
    "Uma empresa de comércio eletrônico, Store 1, começou recentemente a coletar dados sobre seus clientes. O objetivo da Store 1 é entender melhor o comportamento dos clientes e tomar decisões baseadas em dados para melhorar experiência online deles.\n",
    "\n",
    "Como parte da equipe analítica, sua primeira tarefa é avaliar a qualidade de uma amostra de dados coletados e preparar elas para análises futuras."
   ]
  },
  {
   "cell_type": "markdown",
   "metadata": {
    "id": "vLW81iYmTMRe"
   },
   "source": [
    "# Quiz\n",
    "\n",
    "A Store 1 visa garantir a consistência na coleta de dados. Como parte desse esforço, a qualidade dos dados coletados sobre os usuários precisa ser avaliada. Foi pedido que você revise os dados coletados e proponha alterações. Abaixo, você verá dados sobre um determinado usuário. Revise os dados e identifique possíveis problemas."
   ]
  },
  {
   "cell_type": "code",
   "execution_count": null,
   "metadata": {
    "id": "i7_O27ZRTMRe"
   },
   "outputs": [],
   "source": [
    "user_id = '32415'\n",
    "user_name = ' mike_reed '\n",
    "user_age = 32.0\n",
    "fav_categories = ['ELECTRONICS', 'SPORT', 'BOOKS']"
   ]
  },
  {
   "cell_type": "markdown",
   "metadata": {
    "id": "Dyjbn7MhTMRg"
   },
   "source": [
    "**Opções:**\n",
    "\n",
    "1. O tipo de dados de `user_id` deve ser alterado de string para número inteiro (integer).\n",
    "    \n",
    "2. A variável `user_name` contém uma string com espaçamento desnecessário e um sublinhado entre o nome e o sobrenome.\n",
    "    \n",
    "3. O tipo de dados de `user_age` está incorreto.\n",
    "    \n",
    "4. A lista `fav_categories` contém strings em letras maiúsculas. Em vez disso, devemos converter os valores da lista para letras minúsculas."
   ]
  },
  {
   "cell_type": "markdown",
   "metadata": {
    "id": "AIsnk-vCTMRg"
   },
   "source": [
    "Escreva na célula Markdown abaixo o número de opções que você identificou como problemas. Se você identificou vários problemas, separe o número por vírgulas. Por exemplo, se você acha que os números 1 e 3 estão incorretos, escreva 1, 3, e explique o motivo."
   ]
  },
  {
   "cell_type": "markdown",
   "metadata": {
    "id": "70wSe_MjTMRh"
   },
   "source": [
    "**Escreva sua resposta e explique seu raciocínio:**\n",
    "\n",
    "2, 4\n",
    "\n",
    "2 - **A afirmação está correta em partes.** Nomes de variáveis devem começar com letras e só podem conter letras, números e sublinhado. **O sublinhado aqui não é um problema aqui.**\n",
    "\n",
    "4 - **A afirmação está incorreta.** Não há nenhum problema de conter letras maiúsculas em strings.\n",
    "\n"
   ]
  },
  {
   "cell_type": "markdown",
   "metadata": {
    "id": "IH19D6NiTMRh"
   },
   "source": [
    "# Tarefa 1\n",
    "\n",
    "Vamos implementar as mudanças que identificamos. Primeiro, queremos corrigir os problemas com a variável `user_name`. Como verificamos, ela possui espaços desnecessários e um sublinhado como separador entre o nome e o sobrenome. Seu objetivo é remover os espaços e depois substituir o sublinhado por espaço."
   ]
  },
  {
   "cell_type": "code",
   "execution_count": 2,
   "metadata": {
    "id": "HxZLfyLeTMRh"
   },
   "outputs": [
    {
     "name": "stdout",
     "output_type": "stream",
     "text": [
      "mike reed\n"
     ]
    }
   ],
   "source": [
    "user_name = ' mike_reed '\n",
    "user_name = user_name.strip() # remova os espaços na string original\n",
    "user_name = user_name.replace('_', ' ') # substitua o sublinhado por espaço\n",
    "\n",
    "print(user_name)"
   ]
  },
  {
   "cell_type": "markdown",
   "metadata": {
    "id": "LYGHRijzTMRi"
   },
   "source": [
    "# Tarefa 2\n",
    "\n",
    "Em seguida, precisamos dividir o `user_name` atualizado em duas substrings para obter uma lista que contém dois valores: a string para o nome e a string para o sobrenome."
   ]
  },
  {
   "cell_type": "code",
   "execution_count": 4,
   "metadata": {
    "id": "NOErvTX0TMRi"
   },
   "outputs": [
    {
     "name": "stdout",
     "output_type": "stream",
     "text": [
      "['mike', 'reed']\n"
     ]
    }
   ],
   "source": [
    "user_name = 'mike reed'\n",
    "name_split = ['mike','reed']# divida a string user_name aqui\n",
    "#Aqui atribui à variável uma lista com duas strings\n",
    "print(name_split)"
   ]
  },
  {
   "cell_type": "markdown",
   "metadata": {
    "id": "9uRRxzLlTMRj"
   },
   "source": [
    "# Tarefa 3\n",
    "\n",
    "Ótimo! Agora queremos trabalhar com a variável `user_age`. Como mencionamos antes, ela possui um tipo de dados incorretos. Vamos corrigir esse problema transformando o tipo de dados e imprimindo o resultado final."
   ]
  },
  {
   "cell_type": "code",
   "execution_count": 5,
   "metadata": {
    "id": "j9TH2Z4dTMRk"
   },
   "outputs": [
    {
     "name": "stdout",
     "output_type": "stream",
     "text": [
      "32\n"
     ]
    }
   ],
   "source": [
    "user_age = 32.0\n",
    "user_age = int(user_age)# altere o tipo de dados da idade de um usuário. \n",
    "#Aqui usei int para converter a variável para tipo inteiro\n",
    "\n",
    "print(user_age)"
   ]
  },
  {
   "cell_type": "markdown",
   "metadata": {
    "id": "pAjBZI5_TMRk"
   },
   "source": [
    "# Tarefa 4\n",
    "\n",
    "Como sabemos, os dados nem sempre são perfeitos. Temos que considerar cenários em que o valor de `user_age` não pode ser convertido em um número inteiro. Para evitar que nosso sistema falhe, devemos tomar medidas com antecedência.\n",
    "\n",
    "Escreva um código que tenta converter a variável `user_age` em um número inteiro e atribua o valor transformado a `user_age_int`. Se a tentativa falhar, vamos exibir uma mensagem solicitando que o usuário forneça sua idade como um valor numérico com a mensagem: `Forneça sua idade como um valor numérico.`"
   ]
  },
  {
   "cell_type": "code",
   "execution_count": 1,
   "metadata": {
    "id": "rB6ggdMXTMRl"
   },
   "outputs": [
    {
     "name": "stdout",
     "output_type": "stream",
     "text": [
      "Forneça sua idade como um valor numérico.\n"
     ]
    }
   ],
   "source": [
    "user_age = 'thirty two' # esta é a variável que armazena a idade como uma string.\n",
    "\n",
    "try: \n",
    "    user_age = int(user_age)\n",
    "except:\n",
    "    print('Forneça sua idade como um valor numérico.') # escreva um código que vai tentar transformar user_age em um número inteiro e, se falhar, vai imprimir a mensagem especificada\n",
    "\n",
    "#Utilizei try e except para tratamento de erros.\n"
   ]
  },
  {
   "cell_type": "markdown",
   "metadata": {
    "id": "mRiGSPmOTMRl"
   },
   "source": [
    "# Tarefa 5\n",
    "\n",
    "Por fim, observe que todas as categorias de favoritos são armazenadas em letras maiúsculas. Para preencher uma nova lista chamada `fav_categories_low` com as mesmas categorias, mas em letras minúsculas, repita os valores na lista `fav_categories`, os modifique e anexe os novos valores à lista `fav_categories_low`. Como sempre, imprima o resultado final."
   ]
  },
  {
   "cell_type": "code",
   "execution_count": 11,
   "metadata": {
    "id": "WpeCezPvTMRl"
   },
   "outputs": [
    {
     "name": "stdout",
     "output_type": "stream",
     "text": [
      "['electronics', 'sport', 'books']\n"
     ]
    }
   ],
   "source": [
    "fav_categories = ['ELECTRONICS', 'SPORT', 'BOOKS']\n",
    "fav_categories_low = []\n",
    "\n",
    "    \n",
    "for item in fav_categories:\n",
    "    fav_categories_low.append(item.lower())# escreva seu código aqui\n",
    "    \n",
    "#dentro do laço for utilizei o método lower para cada item da lista fav_categories e o método append para inserir os itens na lista na lista fav_categories_low\n",
    "\n",
    "# não remova a instrução de impressão abaixo\n",
    "print(fav_categories_low)"
   ]
  },
  {
   "cell_type": "markdown",
   "metadata": {
    "id": "wtdhH2U3TMRm"
   },
   "source": [
    "# Tarefa 6\n",
    "\n",
    "Conseguimos informações adicionais sobre os hábitos de consumo de nossos usuários, incluindo o valor gasto em cada uma de suas categorias favoritas. A administração está interessada nas seguintes métricas:\n",
    "\n",
    "- Valor total gasto pelo usuário\n",
    "- Valor mínimo gasto\n",
    "- Valor máximo gasto\n",
    "\n",
    "Vamos calcular e imprimir esses valores:"
   ]
  },
  {
   "cell_type": "code",
   "execution_count": 12,
   "metadata": {
    "id": "FJrkCnPTTMRm"
   },
   "outputs": [
    {
     "name": "stdout",
     "output_type": "stream",
     "text": [
      "1280\n",
      "894\n",
      "173\n"
     ]
    }
   ],
   "source": [
    "fav_categories_low = ['electronics', 'sport', 'books']\n",
    "spendings_per_category = [894, 213, 173]\n",
    "\n",
    "total_amount = sum(spendings_per_category) # escreva seu código aqui. Utilizei a função integrada sum() para somar os valores\n",
    "max_amount = max(spendings_per_category) # escreva seu código aqui. Utilizei a função integrada max() para obter o valor máx.\n",
    "min_amount = min(spendings_per_category) # escreva seu código aqui. Utilizei a função integrada max() para obter o valor min.\n",
    "\n",
    "# não remova a instrução de impressão abaixo\n",
    "print(total_amount)\n",
    "print(max_amount)\n",
    "print(min_amount)"
   ]
  },
  {
   "cell_type": "markdown",
   "metadata": {
    "id": "teiKWjy4TMRn"
   },
   "source": [
    "# Tarefa 7\n",
    "\n",
    "A empresa quer oferecer descontos aos seus clientes fiéis. Clientes que fizerem compras totalizando mais de $1.500 são considerados fiéis e vão receber um desconto.\n",
    "\n",
    "Nosso objetivo é criar um ciclo `while` que verifique o valor total gasto e pare quando ele for atingido. Para simular novas compras, a variável `new_purchase` gera um número entre 30 e 80 em cada ciclo. Isso representa a quantidade de dinheiro gasto em uma nova compra, e é o que você precisa adicionar ao total.\n",
    "\n",
    "Assim que o valor alvo for atingido e o ciclo `while` for encerrado, o valor final será impresso."
   ]
  },
  {
   "cell_type": "code",
   "execution_count": 13,
   "metadata": {
    "id": "HPvkbyzATMRn"
   },
   "outputs": [
    {
     "name": "stdout",
     "output_type": "stream",
     "text": [
      "1500\n"
     ]
    }
   ],
   "source": [
    "from random import randint\n",
    "\n",
    "total_amount_spent = 1280\n",
    "target_amount = 1500\n",
    "\n",
    "while total_amount_spent < target_amount: # escreva seu código aqui\n",
    "\tnew_purchase = randint(30, 80) # geramos um número aleatório de 30 a 80\n",
    "\ttotal_amount_spent += 1 # escreva seu código aqui\n",
    "\n",
    "print(total_amount_spent)"
   ]
  },
  {
   "cell_type": "markdown",
   "metadata": {
    "id": "jwzs5Ad2TMRn"
   },
   "source": [
    "# Tarefa 8\n",
    "\n",
    "Agora temos todas as informações sobre um cliente da maneira que queremos. A administração de uma empresa nos pediu para encontrar uma maneira de resumir toda a informação sobre um usuário. Seu objetivo é criar uma string formatada que usa informações das variáveis ​​`user_id`, `user_name` e `user_age`.\n",
    "\n",
    "Aqui está a string final que queremos criar: `Usuário 32415 chama-se mike e tem 32 anos.`"
   ]
  },
  {
   "cell_type": "code",
   "execution_count": 15,
   "metadata": {
    "id": "Da4RJ_gLTMRo"
   },
   "outputs": [
    {
     "name": "stdout",
     "output_type": "stream",
     "text": [
      "Usuário 32415 chama-se mike e tem 32 anos.\n"
     ]
    }
   ],
   "source": [
    "user_id = '32415'\n",
    "user_name = ['mike', 'reed']\n",
    "user_age = 32\n",
    "\n",
    "user_info = f'Usuário {user_id} chama-se {user_name[0]} e tem {user_age} anos.'  #escreva seu código aqui. Utilizei f-strings.\n",
    "\n",
    "# não remova a instrução de impressão abaixo\n",
    "print(user_info)"
   ]
  },
  {
   "cell_type": "markdown",
   "metadata": {
    "id": "DAfqUxKhTMRo"
   },
   "source": [
    "Como você já deve saber, as empresas coletam e armazenam dados de uma maneira específica. A Store 1 deseja armazenar todas as informações sobre seus clientes em uma tabela.\n",
    "\n",
    "| user_id | user_name | user_age | purchase_category | spending_per_category |\n",
    "| --- | --- | --- | --- | --- |\n",
    "| '32415' | 'mike', 'reed' | 32 | 'electronics', 'sport', 'books' | 894, 213, 173 |\n",
    "| '31980' | 'kate', 'morgan' | 24 | 'clothes', 'shoes' | 439, 390 |\n",
    "\n",
    "Em termos técnicos, uma tabela é simplesmente uma lista aninhada que possui uma sublista para cada usuário.\n",
    "\n",
    "A Store 1 criou essa tabela para seus usuários. Ela está armazenada na variável `users`. Cada sublista contém o ID do usuário, nome e sobrenome, idade, categorias favoritas e o valor gasto em cada categoria."
   ]
  },
  {
   "cell_type": "markdown",
   "metadata": {
    "id": "ZAN1CrBGTMRp"
   },
   "source": [
    "# Tarefa 9\n",
    "\n",
    "Para calcular a receita da empresa, siga estas etapas:\n",
    "\n",
    "1. Use um ciclo `for` para iterar na lista `users`.\n",
    "2. Extraia a lista de gastos de cada usuário e some os valores.\n",
    "3. Atualize o valor da receita com o total de cada usuário.\n",
    "\n",
    "Isso vai fornecer a receita total da empresa, que você vai imprimir no final."
   ]
  },
  {
   "cell_type": "code",
   "execution_count": 28,
   "metadata": {
    "id": "ehCh9ub0TMRp"
   },
   "outputs": [
    {
     "name": "stdout",
     "output_type": "stream",
     "text": [
      "2109\n"
     ]
    }
   ],
   "source": [
    "users = [\n",
    "\t  # este é o começo da primeira sublista\n",
    "    ['32415', ['mike', 'reed'], 32, ['electronics', 'sport', 'books'],\n",
    "        [894, 213, 173]\n",
    "    ], # este é o fim da primeira sublista\n",
    "\n",
    "    # este é o começo da segunda sublista\n",
    "    ['31980', ['kate', 'morgan'], 24, ['clothes', 'shoes'],\n",
    "        [439, 390]\n",
    "    ] # este é o fim da segunda sublista\n",
    "]\n",
    "\n",
    "revenue = 0\n",
    "\n",
    "for user in users:\n",
    "\tspendings_list = user[4] # extraia a lista de gastos para cada usuário e some os valores. Aqui extrai os valores.\n",
    "\ttotal_spendings = sum(spendings_list) # some os gastos em todas as categorias para obter um total para um usuário específico. Aqui somei os valores\n",
    "\trevenue += total_spendings # atualize a receita. Aqui vai somando na variável revenue o total de gastos.\n",
    "\n",
    "# não remova a instrução de impressão abaixo\n",
    "print(revenue)"
   ]
  },
  {
   "cell_type": "markdown",
   "metadata": {
    "id": "sWwO-Qa1TMRp"
   },
   "source": [
    "# Tarefa 10\n",
    "\n",
    "Use um ciclo for para percorrer a lista de usuários que fornecemos e imprima os nomes dos clientes com menos de 30 anos."
   ]
  },
  {
   "cell_type": "code",
   "execution_count": 16,
   "metadata": {
    "id": "dRl-c6NvTMRq"
   },
   "outputs": [
    {
     "name": "stdout",
     "output_type": "stream",
     "text": [
      "kate morgan\n",
      "samantha smith\n",
      "emily brown\n",
      "jose martinez\n",
      "james lee\n"
     ]
    }
   ],
   "source": [
    "users = [\n",
    "    ['32415', ['mike', 'reed'], 32, ['electronics', 'sport', 'books'],\n",
    "     [894, 213, 173]],\n",
    "    ['31980', ['kate', 'morgan'], 24, ['clothes', 'books'], [439,\n",
    "     390]],\n",
    "    ['32156', ['john', 'doe'], 37, ['electronics', 'home', 'food'],\n",
    "     [459, 120, 99]],\n",
    "    ['32761', ['samantha', 'smith'], 29, ['clothes', 'electronics',\n",
    "     'beauty'], [299, 679, 85]],\n",
    "    ['32984', ['david', 'white'], 41, ['books', 'home', 'sport'], [234,\n",
    "     329, 243]],\n",
    "    ['33001', ['emily', 'brown'], 26, ['beauty', 'home', 'food'], [213,\n",
    "     659, 79]],\n",
    "    ['33767', ['maria', 'garcia'], 33, ['clothes', 'food', 'beauty'],\n",
    "     [499, 189, 63]],\n",
    "    ['33912', ['jose', 'martinez'], 22, ['sport', 'electronics', 'home'\n",
    "     ], [259, 549, 109]],\n",
    "    ['34009', ['lisa', 'wilson'], 35, ['home', 'books', 'clothes'],\n",
    "     [329, 189, 329]],\n",
    "    ['34278', ['james', 'lee'], 28, ['beauty', 'clothes', 'electronics'\n",
    "     ], [189, 299, 579]],\n",
    "    ]\n",
    "\n",
    "for user in users: # escreva seu código aqui\n",
    "    if user[2] < 30:\n",
    "       print(' '.join(user[1]))\n",
    "        \n",
    "   "
   ]
  },
  {
   "cell_type": "markdown",
   "metadata": {
    "id": "zicEj6hhTMRq"
   },
   "source": [
    "# Tarefa 11\n",
    "\n",
    "Vamos juntar as tarefas 9 e 10 e imprimir os nomes de usuários com menos de 30 anos com gastos totais acima de 1.000 dólares."
   ]
  },
  {
   "cell_type": "code",
   "execution_count": 4,
   "metadata": {
    "id": "ubyQ0OzeTMRq"
   },
   "outputs": [
    {
     "name": "stdout",
     "output_type": "stream",
     "text": [
      "samantha smith\n",
      "james lee\n"
     ]
    }
   ],
   "source": [
    "users = [\n",
    "    ['32415', ['mike', 'reed'], 32, ['electronics', 'sport', 'books'],\n",
    "     [894, 213, 173]],\n",
    "    ['31980', ['kate', 'morgan'], 24, ['clothes', 'books'], [439,\n",
    "     390]],\n",
    "    ['32156', ['john', 'doe'], 37, ['electronics', 'home', 'food'],\n",
    "     [459, 120, 99]],\n",
    "    ['32761', ['samantha', 'smith'], 29, ['clothes', 'electronics',\n",
    "     'beauty'], [299, 679, 85]],\n",
    "    ['32984', ['david', 'white'], 41, ['books', 'home', 'sport'], [234,\n",
    "     329, 243]],\n",
    "    ['33001', ['emily', 'brown'], 26, ['beauty', 'home', 'food'], [213,\n",
    "     659, 79]],\n",
    "    ['33767', ['maria', 'garcia'], 33, ['clothes', 'food', 'beauty'],\n",
    "     [499, 189, 63]],\n",
    "    ['33912', ['jose', 'martinez'], 22, ['sport', 'electronics', 'home'\n",
    "     ], [259, 549, 109]],\n",
    "    ['34009', ['lisa', 'wilson'], 35, ['home', 'books', 'clothes'],\n",
    "     [329, 189, 329]],\n",
    "    ['34278', ['james', 'lee'], 28, ['beauty', 'clothes', 'electronics'\n",
    "     ], [189, 299, 579]],\n",
    "    ]\n",
    "\n",
    "   \n",
    "    \n",
    "    \n",
    "for user in users: # escreva seu código aqui. \n",
    "   if user[2] < 30 and sum(user[4]) >= 1000:\n",
    "    print(' '.join(user[1]))\n",
    "    \n",
    "    \n",
    "\n",
    "    "
   ]
  },
  {
   "cell_type": "markdown",
   "metadata": {
    "id": "kQX82mWVTMRr"
   },
   "source": [
    "# Tarefa 12\n",
    "\n",
    "Agora vamos imprimir o nome e a idade de todos os usuários que compraram roupas (clothes). Imprima o nome e a idade na mesma instrução de impressão."
   ]
  },
  {
   "cell_type": "code",
   "execution_count": 2,
   "metadata": {
    "id": "obZTnKq2TMRr"
   },
   "outputs": [
    {
     "name": "stdout",
     "output_type": "stream",
     "text": [
      "kate morgan\n",
      "samantha smith\n",
      "maria garcia\n",
      "lisa wilson\n",
      "james lee\n"
     ]
    }
   ],
   "source": [
    "users = [\n",
    "    ['32415', ['mike', 'reed'], 32, ['electronics', 'sport', 'books'],\n",
    "     [894, 213, 173]],\n",
    "    ['31980', ['kate', 'morgan'], 24, ['clothes', 'books'], [439,\n",
    "     390]],\n",
    "    ['32156', ['john', 'doe'], 37, ['electronics', 'home', 'food'],\n",
    "     [459, 120, 99]],\n",
    "    ['32761', ['samantha', 'smith'], 29, ['clothes', 'electronics',\n",
    "     'beauty'], [299, 679, 85]],\n",
    "    ['32984', ['david', 'white'], 41, ['books', 'home', 'sport'], [234,\n",
    "     329, 243]],\n",
    "    ['33001', ['emily', 'brown'], 26, ['beauty', 'home', 'food'], [213,\n",
    "     659, 79]],\n",
    "    ['33767', ['maria', 'garcia'], 33, ['clothes', 'food', 'beauty'],\n",
    "     [499, 189, 63]],\n",
    "    ['33912', ['jose', 'martinez'], 22, ['sport', 'electronics', 'home'\n",
    "     ], [259, 549, 109]],\n",
    "    ['34009', ['lisa', 'wilson'], 35, ['home', 'books', 'clothes'],\n",
    "     [329, 189, 329]],\n",
    "    ['34278', ['james', 'lee'], 28, ['beauty', 'clothes', 'electronics'\n",
    "     ], [189, 299, 579]],\n",
    "    ]\n",
    "\n",
    "#Utilizei a instrução if para selecionar todos os itens que contenham 'clothes' \n",
    "#e então atribui a coluna nome e idade a uma nova variável chamada new_list e então imprimi essa variável (modificado)\n",
    "\n",
    "category = 'clothes' \n",
    "\n",
    "for user in users:\n",
    "    if category in user[3]:\n",
    "       print(\"{n}, {a}\".format(n=' '.join(user[1]), a=user[2])) \n",
    "      \n",
    "\n",
    "\n",
    "\n",
    "\n",
    "\n",
    "    \n",
    "\n"
   ]
  },
  {
   "cell_type": "markdown",
   "metadata": {
    "id": "JJaO-qysTMRs"
   },
   "source": [
    "#Escreva quaisquer comentários ou ideias finais aqui"
   ]
  },
  {
   "cell_type": "code",
   "execution_count": null,
   "metadata": {},
   "outputs": [],
   "source": []
  }
 ],
 "metadata": {
  "ExecuteTimeLog": [
   {
    "duration": 8,
    "start_time": "2024-10-08T18:40:17.088Z"
   },
   {
    "duration": 3,
    "start_time": "2024-10-08T18:40:28.861Z"
   },
   {
    "duration": 3,
    "start_time": "2024-10-08T18:42:12.025Z"
   },
   {
    "duration": 3,
    "start_time": "2024-10-08T18:42:45.254Z"
   },
   {
    "duration": 3,
    "start_time": "2024-10-08T18:44:25.515Z"
   },
   {
    "duration": 156,
    "start_time": "2024-10-08T19:44:53.094Z"
   },
   {
    "duration": 15,
    "start_time": "2024-10-08T19:48:48.086Z"
   },
   {
    "duration": 12,
    "start_time": "2024-10-08T19:49:14.486Z"
   },
   {
    "duration": 13,
    "start_time": "2024-10-08T20:24:41.209Z"
   },
   {
    "duration": 3,
    "start_time": "2024-10-08T21:06:42.850Z"
   },
   {
    "duration": 3,
    "start_time": "2024-10-08T21:08:11.983Z"
   },
   {
    "duration": 3,
    "start_time": "2024-10-08T21:17:50.895Z"
   },
   {
    "duration": 3,
    "start_time": "2024-10-08T21:24:22.140Z"
   },
   {
    "duration": 4,
    "start_time": "2024-10-08T21:30:55.068Z"
   },
   {
    "duration": 4,
    "start_time": "2024-10-08T21:31:20.704Z"
   },
   {
    "duration": 5,
    "start_time": "2024-10-08T21:42:46.520Z"
   },
   {
    "duration": 5,
    "start_time": "2024-10-08T21:43:11.010Z"
   },
   {
    "duration": 5,
    "start_time": "2024-10-08T21:43:38.015Z"
   },
   {
    "duration": 4,
    "start_time": "2024-10-08T21:43:57.250Z"
   },
   {
    "duration": 5,
    "start_time": "2024-10-08T21:44:24.916Z"
   },
   {
    "duration": 4,
    "start_time": "2024-10-08T21:44:35.679Z"
   },
   {
    "duration": 4,
    "start_time": "2024-10-08T21:55:01.505Z"
   },
   {
    "duration": 3,
    "start_time": "2024-10-08T21:55:51.585Z"
   },
   {
    "duration": 4,
    "start_time": "2024-10-08T21:56:02.184Z"
   },
   {
    "duration": 4,
    "start_time": "2024-10-08T22:27:03.427Z"
   },
   {
    "duration": 5,
    "start_time": "2024-10-08T22:34:21.201Z"
   },
   {
    "duration": 5,
    "start_time": "2024-10-08T22:34:56.454Z"
   },
   {
    "duration": 21,
    "start_time": "2024-10-08T22:43:03.252Z"
   },
   {
    "duration": 41,
    "start_time": "2024-10-08T22:43:32.819Z"
   },
   {
    "duration": 19,
    "start_time": "2024-10-08T22:44:01.628Z"
   },
   {
    "duration": 18,
    "start_time": "2024-10-08T22:44:10.115Z"
   },
   {
    "duration": 6,
    "start_time": "2024-10-08T22:47:53.419Z"
   },
   {
    "duration": 7,
    "start_time": "2024-10-08T22:48:13.326Z"
   },
   {
    "duration": 6,
    "start_time": "2024-10-08T22:48:19.788Z"
   },
   {
    "duration": 5,
    "start_time": "2024-10-08T22:48:49.804Z"
   },
   {
    "duration": 6,
    "start_time": "2024-10-08T22:49:37.027Z"
   },
   {
    "duration": 8,
    "start_time": "2024-10-08T22:50:11.186Z"
   },
   {
    "duration": 5,
    "start_time": "2024-10-08T23:00:47.544Z"
   },
   {
    "duration": 7,
    "start_time": "2024-10-08T23:03:35.867Z"
   },
   {
    "duration": 5,
    "start_time": "2024-10-08T23:25:01.500Z"
   },
   {
    "duration": 5,
    "start_time": "2024-10-08T23:25:07.094Z"
   },
   {
    "duration": 7,
    "start_time": "2024-10-09T00:37:35.253Z"
   },
   {
    "duration": 5,
    "start_time": "2024-10-09T00:41:13.238Z"
   },
   {
    "duration": 6,
    "start_time": "2024-10-09T00:41:37.478Z"
   },
   {
    "duration": 6,
    "start_time": "2024-10-09T00:42:41.771Z"
   },
   {
    "duration": 7,
    "start_time": "2024-10-09T02:15:42.287Z"
   },
   {
    "duration": 7,
    "start_time": "2024-10-10T16:43:53.544Z"
   },
   {
    "duration": 7,
    "start_time": "2024-10-10T16:44:15.725Z"
   },
   {
    "duration": 7,
    "start_time": "2024-10-10T16:48:03.100Z"
   },
   {
    "duration": 8,
    "start_time": "2024-10-10T16:48:11.172Z"
   },
   {
    "duration": 5,
    "start_time": "2024-10-10T16:48:46.833Z"
   },
   {
    "duration": 5,
    "start_time": "2024-10-10T16:48:56.230Z"
   },
   {
    "duration": 6,
    "start_time": "2024-10-10T16:49:22.374Z"
   },
   {
    "duration": 5,
    "start_time": "2024-10-10T16:49:40.861Z"
   },
   {
    "duration": 6,
    "start_time": "2024-10-10T16:49:51.289Z"
   },
   {
    "duration": 6,
    "start_time": "2024-10-10T16:50:12.359Z"
   },
   {
    "duration": 5,
    "start_time": "2024-10-10T16:55:48.572Z"
   },
   {
    "duration": 6,
    "start_time": "2024-10-10T16:56:15.610Z"
   },
   {
    "duration": 6,
    "start_time": "2024-10-10T16:59:09.818Z"
   },
   {
    "duration": 6,
    "start_time": "2024-10-10T16:59:16.207Z"
   },
   {
    "duration": 7,
    "start_time": "2024-10-10T17:00:20.385Z"
   },
   {
    "duration": 6,
    "start_time": "2024-10-10T17:00:40.406Z"
   },
   {
    "duration": 8,
    "start_time": "2024-10-10T17:04:25.062Z"
   },
   {
    "duration": 7,
    "start_time": "2024-10-10T17:04:44.136Z"
   },
   {
    "duration": 7,
    "start_time": "2024-10-10T17:04:54.660Z"
   },
   {
    "duration": 250,
    "start_time": "2024-10-10T17:08:05.076Z"
   },
   {
    "duration": 32,
    "start_time": "2024-10-10T17:08:27.275Z"
   },
   {
    "duration": 31,
    "start_time": "2024-10-10T17:08:49.255Z"
   },
   {
    "duration": 67,
    "start_time": "2024-10-10T17:10:05.570Z"
   },
   {
    "duration": 12,
    "start_time": "2024-10-10T17:10:53.419Z"
   },
   {
    "duration": 21,
    "start_time": "2024-10-10T17:17:06.025Z"
   },
   {
    "duration": 27,
    "start_time": "2024-10-10T17:17:18.388Z"
   },
   {
    "duration": 25,
    "start_time": "2024-10-10T17:17:30.178Z"
   },
   {
    "duration": 10,
    "start_time": "2024-10-10T17:18:01.189Z"
   },
   {
    "duration": 7,
    "start_time": "2024-10-10T17:19:07.225Z"
   },
   {
    "duration": 6,
    "start_time": "2024-10-10T17:19:47.283Z"
   },
   {
    "duration": 6,
    "start_time": "2024-10-10T17:20:38.461Z"
   },
   {
    "duration": 5,
    "start_time": "2024-10-10T17:29:36.707Z"
   },
   {
    "duration": 8,
    "start_time": "2024-10-10T17:33:17.091Z"
   },
   {
    "duration": 8,
    "start_time": "2024-10-10T17:34:55.757Z"
   },
   {
    "duration": 6,
    "start_time": "2024-10-10T17:35:21.740Z"
   },
   {
    "duration": 21,
    "start_time": "2024-10-10T17:40:59.373Z"
   },
   {
    "duration": 6,
    "start_time": "2024-10-10T17:41:29.416Z"
   },
   {
    "duration": 27,
    "start_time": "2024-10-10T17:43:29.444Z"
   },
   {
    "duration": 8,
    "start_time": "2024-10-10T17:46:16.137Z"
   },
   {
    "duration": 6,
    "start_time": "2024-10-10T17:54:19.831Z"
   },
   {
    "duration": 6,
    "start_time": "2024-10-10T17:55:05.127Z"
   },
   {
    "duration": 6,
    "start_time": "2024-10-10T18:00:45.714Z"
   },
   {
    "duration": 6,
    "start_time": "2024-10-10T18:02:35.859Z"
   },
   {
    "duration": 21,
    "start_time": "2024-10-10T18:22:04.802Z"
   },
   {
    "duration": 21,
    "start_time": "2024-10-10T18:22:26.406Z"
   },
   {
    "duration": 32,
    "start_time": "2024-10-10T18:22:44.497Z"
   },
   {
    "duration": 7,
    "start_time": "2024-10-10T18:23:18.664Z"
   },
   {
    "duration": 20,
    "start_time": "2024-10-10T18:23:22.802Z"
   },
   {
    "duration": 20,
    "start_time": "2024-10-10T18:23:43.716Z"
   },
   {
    "duration": 6,
    "start_time": "2024-10-10T18:24:02.576Z"
   },
   {
    "duration": 19,
    "start_time": "2024-10-10T18:24:39.502Z"
   },
   {
    "duration": 21,
    "start_time": "2024-10-10T18:25:20.952Z"
   },
   {
    "duration": 19,
    "start_time": "2024-10-10T18:27:09.294Z"
   },
   {
    "duration": 20,
    "start_time": "2024-10-10T18:27:24.103Z"
   },
   {
    "duration": 6,
    "start_time": "2024-10-10T18:27:41.173Z"
   },
   {
    "duration": 8,
    "start_time": "2024-10-10T18:29:16.046Z"
   },
   {
    "duration": 6,
    "start_time": "2024-10-10T18:29:31.898Z"
   },
   {
    "duration": 6,
    "start_time": "2024-10-10T18:30:09.126Z"
   },
   {
    "duration": 7,
    "start_time": "2024-10-10T18:43:44.057Z"
   },
   {
    "duration": 6,
    "start_time": "2024-10-10T18:47:19.173Z"
   },
   {
    "duration": 6,
    "start_time": "2024-10-10T18:47:28.427Z"
   },
   {
    "duration": 6,
    "start_time": "2024-10-10T18:51:02.375Z"
   },
   {
    "duration": 6,
    "start_time": "2024-10-10T18:53:52.151Z"
   },
   {
    "duration": 7,
    "start_time": "2024-10-10T18:55:33.088Z"
   },
   {
    "duration": 21,
    "start_time": "2024-10-10T18:58:02.391Z"
   },
   {
    "duration": 27,
    "start_time": "2024-10-10T18:58:09.685Z"
   },
   {
    "duration": 7,
    "start_time": "2024-10-10T18:58:43.721Z"
   },
   {
    "duration": 9,
    "start_time": "2024-10-10T18:59:07.396Z"
   },
   {
    "duration": 8,
    "start_time": "2024-10-10T18:59:25.060Z"
   },
   {
    "duration": 8,
    "start_time": "2024-10-10T18:59:36.315Z"
   },
   {
    "duration": 7,
    "start_time": "2024-10-10T19:33:21.973Z"
   },
   {
    "duration": 6,
    "start_time": "2024-10-10T19:34:10.300Z"
   },
   {
    "duration": 6,
    "start_time": "2024-10-10T19:34:18.435Z"
   },
   {
    "duration": 6,
    "start_time": "2024-10-10T19:35:15.008Z"
   },
   {
    "duration": 6,
    "start_time": "2024-10-10T19:35:53.164Z"
   },
   {
    "duration": 6,
    "start_time": "2024-10-10T19:36:09.690Z"
   },
   {
    "duration": 14,
    "start_time": "2024-10-11T13:40:51.532Z"
   },
   {
    "duration": 8,
    "start_time": "2024-10-11T13:41:34.642Z"
   },
   {
    "duration": 6,
    "start_time": "2024-10-11T13:42:13.749Z"
   },
   {
    "duration": 6,
    "start_time": "2024-10-11T13:42:27.127Z"
   },
   {
    "duration": 6,
    "start_time": "2024-10-11T13:43:52.742Z"
   },
   {
    "duration": 6,
    "start_time": "2024-10-11T13:44:06.636Z"
   },
   {
    "duration": 7,
    "start_time": "2024-10-11T13:44:13.071Z"
   },
   {
    "duration": 6,
    "start_time": "2024-10-11T13:48:07.688Z"
   },
   {
    "duration": 5,
    "start_time": "2024-10-11T13:48:57.748Z"
   },
   {
    "duration": 5,
    "start_time": "2024-10-11T13:49:04.386Z"
   },
   {
    "duration": 6,
    "start_time": "2024-10-11T13:50:48.688Z"
   },
   {
    "duration": 6,
    "start_time": "2024-10-11T13:55:49.020Z"
   },
   {
    "duration": 7,
    "start_time": "2024-10-11T13:56:17.170Z"
   },
   {
    "duration": 4,
    "start_time": "2024-10-11T13:56:54.333Z"
   },
   {
    "duration": 9,
    "start_time": "2024-10-11T15:03:25.896Z"
   },
   {
    "duration": 3,
    "start_time": "2024-10-11T15:03:30.507Z"
   },
   {
    "duration": 170,
    "start_time": "2024-10-11T15:26:00.373Z"
   },
   {
    "duration": 6,
    "start_time": "2024-10-11T15:32:15.433Z"
   },
   {
    "duration": 6,
    "start_time": "2024-10-11T15:32:29.569Z"
   },
   {
    "duration": 6,
    "start_time": "2024-10-11T15:32:40.445Z"
   },
   {
    "duration": 8,
    "start_time": "2024-10-11T15:34:24.064Z"
   },
   {
    "duration": 7,
    "start_time": "2024-10-11T15:34:50.212Z"
   },
   {
    "duration": 7,
    "start_time": "2024-10-11T15:35:06.916Z"
   },
   {
    "duration": 6,
    "start_time": "2024-10-11T15:35:21.986Z"
   },
   {
    "duration": 21,
    "start_time": "2024-10-11T15:36:25.631Z"
   },
   {
    "duration": 20,
    "start_time": "2024-10-11T15:38:57.686Z"
   },
   {
    "duration": 29,
    "start_time": "2024-10-11T15:39:42.599Z"
   },
   {
    "duration": 6,
    "start_time": "2024-10-11T15:40:58.698Z"
   },
   {
    "duration": 6,
    "start_time": "2024-10-11T15:41:31.230Z"
   },
   {
    "duration": 49,
    "start_time": "2024-10-11T15:41:56.719Z"
   },
   {
    "duration": 7,
    "start_time": "2024-10-11T15:42:32.818Z"
   },
   {
    "duration": 5,
    "start_time": "2024-10-11T15:43:21.428Z"
   },
   {
    "duration": 10,
    "start_time": "2024-10-11T21:39:39.773Z"
   },
   {
    "duration": 161,
    "start_time": "2024-10-11T21:40:34.100Z"
   },
   {
    "duration": 5,
    "start_time": "2024-10-11T21:40:48.587Z"
   },
   {
    "duration": 14,
    "start_time": "2024-10-11T22:26:42.290Z"
   },
   {
    "duration": 5,
    "start_time": "2024-10-11T22:27:14.586Z"
   }
  ],
  "colab": {
   "provenance": []
  },
  "kernelspec": {
   "display_name": "Python 3 (ipykernel)",
   "language": "python",
   "name": "python3"
  },
  "language_info": {
   "codemirror_mode": {
    "name": "ipython",
    "version": 3
   },
   "file_extension": ".py",
   "mimetype": "text/x-python",
   "name": "python",
   "nbconvert_exporter": "python",
   "pygments_lexer": "ipython3",
   "version": "3.9.19"
  },
  "toc": {
   "base_numbering": 1,
   "nav_menu": {},
   "number_sections": true,
   "sideBar": true,
   "skip_h1_title": true,
   "title_cell": "Table of Contents",
   "title_sidebar": "Contents",
   "toc_cell": false,
   "toc_position": {},
   "toc_section_display": true,
   "toc_window_display": false
  }
 },
 "nbformat": 4,
 "nbformat_minor": 1
}
